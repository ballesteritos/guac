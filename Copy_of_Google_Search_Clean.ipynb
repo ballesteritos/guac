{
  "nbformat": 4,
  "nbformat_minor": 0,
  "metadata": {
    "colab": {
      "name": "Copy of Google_Search_Clean.ipynb",
      "provenance": [],
      "include_colab_link": true
    },
    "kernelspec": {
      "display_name": "Python 3",
      "name": "python3"
    }
  },
  "cells": [
    {
      "cell_type": "markdown",
      "metadata": {
        "id": "view-in-github",
        "colab_type": "text"
      },
      "source": [
        "<a href=\"https://colab.research.google.com/github/ballesteritos/guac/blob/master/Copy_of_Google_Search_Clean.ipynb\" target=\"_parent\"><img src=\"https://colab.research.google.com/assets/colab-badge.svg\" alt=\"Open In Colab\"/></a>"
      ]
    },
    {
      "cell_type": "markdown",
      "metadata": {
        "id": "jQ8csrmctmwN"
      },
      "source": [
        "# Google Search"
      ]
    },
    {
      "cell_type": "code",
      "metadata": {
        "id": "KAoWDAk6ttzs"
      },
      "source": [
        "!pip install requests_html"
      ],
      "execution_count": null,
      "outputs": []
    },
    {
      "cell_type": "code",
      "metadata": {
        "id": "_JL9rYV0tzwM"
      },
      "source": [
        "import pandas as pd\r\n",
        "from requests_html import HTMLSession\r\n",
        "import time"
      ],
      "execution_count": null,
      "outputs": []
    },
    {
      "cell_type": "code",
      "metadata": {
        "id": "fNfXIDKEUVYw"
      },
      "source": [
        "session = HTMLSession()"
      ],
      "execution_count": null,
      "outputs": []
    },
    {
      "cell_type": "code",
      "metadata": {
        "id": "OkFFce97T53L"
      },
      "source": [
        " def get_results(query):\r\n",
        "  r = session.get(\"https://www.google.com/search?q={}\".format(query))\r\n",
        "  while r.status_code != 200:\r\n",
        "    time.sleep(2)\r\n",
        "    r = session.get(\"https://www.google.com/search?q={}\".format(query))\r\n",
        "  resultnumber = r.html.find('#result-stats')\r\n",
        "  try:\r\n",
        "    return resultnumber[0].text.split()[1]\r\n",
        "  except IndexError:\r\n",
        "    print(r.html)\r\n",
        "    raise"
      ],
      "execution_count": null,
      "outputs": []
    },
    {
      "cell_type": "code",
      "metadata": {
        "id": "MCjETmXlTEwX",
        "colab": {
          "base_uri": "https://localhost:8080/",
          "height": 306
        },
        "outputId": "c8ba71b5-8302-4aad-a78d-fe3adcad2fb7"
      },
      "source": [
        "data = pd.read_excel('/content/drive/MyDrive/chronic condition philanthropy 2007 2019 1Mil plus.xlsx')\r\n",
        "data[\"Description\"].fillna(0,inplace=True)\r\n",
        "data.head()"
      ],
      "execution_count": null,
      "outputs": [
        {
          "output_type": "execute_result",
          "data": {
            "text/html": [
              "<div>\n",
              "<style scoped>\n",
              "    .dataframe tbody tr th:only-of-type {\n",
              "        vertical-align: middle;\n",
              "    }\n",
              "\n",
              "    .dataframe tbody tr th {\n",
              "        vertical-align: top;\n",
              "    }\n",
              "\n",
              "    .dataframe thead th {\n",
              "        text-align: right;\n",
              "    }\n",
              "</style>\n",
              "<table border=\"1\" class=\"dataframe\">\n",
              "  <thead>\n",
              "    <tr style=\"text-align: right;\">\n",
              "      <th></th>\n",
              "      <th>Company Name</th>\n",
              "      <th>Grantmaker Name</th>\n",
              "      <th>Grantmaker State</th>\n",
              "      <th>Recipient Name</th>\n",
              "      <th>Recipient City</th>\n",
              "      <th>Recipient State/Country</th>\n",
              "      <th>Primary Subject</th>\n",
              "      <th>FC categories</th>\n",
              "      <th>NTEE categories</th>\n",
              "      <th>Loss Category</th>\n",
              "      <th>Year Authorized</th>\n",
              "      <th>Grant Amount</th>\n",
              "      <th>Support Strategies</th>\n",
              "      <th>Description</th>\n",
              "    </tr>\n",
              "  </thead>\n",
              "  <tbody>\n",
              "    <tr>\n",
              "      <th>0</th>\n",
              "      <td>3M COMPANY</td>\n",
              "      <td>3M Foundation</td>\n",
              "      <td>Minnesota</td>\n",
              "      <td>University of Minnesota Foundation</td>\n",
              "      <td>Minneapolis</td>\n",
              "      <td>Minnesota</td>\n",
              "      <td>University education</td>\n",
              "      <td>Education</td>\n",
              "      <td>B</td>\n",
              "      <td>Chronic</td>\n",
              "      <td>2014</td>\n",
              "      <td>1000000</td>\n",
              "      <td>NaN</td>\n",
              "      <td>0</td>\n",
              "    </tr>\n",
              "    <tr>\n",
              "      <th>1</th>\n",
              "      <td>3M COMPANY</td>\n",
              "      <td>3M Foundation</td>\n",
              "      <td>Minnesota</td>\n",
              "      <td>University of Minnesota Foundation</td>\n",
              "      <td>Minneapolis</td>\n",
              "      <td>Minnesota</td>\n",
              "      <td>University education</td>\n",
              "      <td>Education</td>\n",
              "      <td>B</td>\n",
              "      <td>Chronic</td>\n",
              "      <td>2013</td>\n",
              "      <td>1000000</td>\n",
              "      <td>Professorships;</td>\n",
              "      <td>For 3M Chair in Experiential Learning</td>\n",
              "    </tr>\n",
              "    <tr>\n",
              "      <th>2</th>\n",
              "      <td>3M COMPANY</td>\n",
              "      <td>3M Foundation</td>\n",
              "      <td>Minnesota</td>\n",
              "      <td>University of Saint Thomas</td>\n",
              "      <td>Saint Paul</td>\n",
              "      <td>Minnesota</td>\n",
              "      <td>University education</td>\n",
              "      <td>Education</td>\n",
              "      <td>B</td>\n",
              "      <td>Chronic</td>\n",
              "      <td>2011</td>\n",
              "      <td>1000000</td>\n",
              "      <td>Scholarships;</td>\n",
              "      <td>For University of St. Thomas Opening Doors Cam...</td>\n",
              "    </tr>\n",
              "    <tr>\n",
              "      <th>3</th>\n",
              "      <td>3M COMPANY</td>\n",
              "      <td>3M Foundation</td>\n",
              "      <td>Minnesota</td>\n",
              "      <td>University of Saint Thomas</td>\n",
              "      <td>Saint Paul</td>\n",
              "      <td>Minnesota</td>\n",
              "      <td>University education</td>\n",
              "      <td>Education</td>\n",
              "      <td>B</td>\n",
              "      <td>Chronic</td>\n",
              "      <td>2010</td>\n",
              "      <td>1000000</td>\n",
              "      <td>Continuing support;</td>\n",
              "      <td>0</td>\n",
              "    </tr>\n",
              "    <tr>\n",
              "      <th>4</th>\n",
              "      <td>3M COMPANY</td>\n",
              "      <td>3M Foundation</td>\n",
              "      <td>Minnesota</td>\n",
              "      <td>University of Saint Thomas</td>\n",
              "      <td>Saint Paul</td>\n",
              "      <td>Minnesota</td>\n",
              "      <td>University education</td>\n",
              "      <td>Education</td>\n",
              "      <td>B</td>\n",
              "      <td>Chronic</td>\n",
              "      <td>2009</td>\n",
              "      <td>1000000</td>\n",
              "      <td>NaN</td>\n",
              "      <td>0</td>\n",
              "    </tr>\n",
              "  </tbody>\n",
              "</table>\n",
              "</div>"
            ],
            "text/plain": [
              "  Company Name  ...                                        Description\n",
              "0   3M COMPANY  ...                                                  0\n",
              "1   3M COMPANY  ...              For 3M Chair in Experiential Learning\n",
              "2   3M COMPANY  ...  For University of St. Thomas Opening Doors Cam...\n",
              "3   3M COMPANY  ...                                                  0\n",
              "4   3M COMPANY  ...                                                  0\n",
              "\n",
              "[5 rows x 14 columns]"
            ]
          },
          "metadata": {
            "tags": []
          },
          "execution_count": 5
        }
      ]
    },
    {
      "cell_type": "code",
      "metadata": {
        "colab": {
          "base_uri": "https://localhost:8080/"
        },
        "id": "sPKIbctuTkJR",
        "outputId": "da94f09b-6b88-4495-f850-38329c8cb732"
      },
      "source": [
        "newdescriptions = data[\"Company Name\"] + \" \" + data[\"Recipient Name\"] + \" \" + data[\"Grant Amount\"].map(str) + \" \" + data[\"Year Authorized\"].map(str)\r\n",
        "descriptions = newdescriptions.to_list()\r\n",
        "descriptions[0:10]"
      ],
      "execution_count": null,
      "outputs": [
        {
          "output_type": "execute_result",
          "data": {
            "text/plain": [
              "['3M COMPANY University of Minnesota Foundation 1000000 2014',\n",
              " '3M COMPANY University of Minnesota Foundation 1000000 2013',\n",
              " '3M COMPANY University of Saint Thomas 1000000 2011',\n",
              " '3M COMPANY University of Saint Thomas 1000000 2010',\n",
              " '3M COMPANY University of Saint Thomas 1000000 2009',\n",
              " '3M COMPANY United Way, Greater Twin Cities 1000000 2014',\n",
              " 'ABBOTT LABORATORIES Northwestern University 1000000 2015',\n",
              " 'ABBOTT LABORATORIES Northwestern University 1000000 2014',\n",
              " 'ABBOTT LABORATORIES Northwestern University 1000000 2013',\n",
              " 'ABBOTT LABORATORIES Northwestern University 1000000 2012']"
            ]
          },
          "metadata": {
            "tags": []
          },
          "execution_count": 6
        }
      ]
    },
    {
      "cell_type": "code",
      "metadata": {
        "id": "Hgk01FxBVLRj",
        "colab": {
          "base_uri": "https://localhost:8080/",
          "height": 387
        },
        "outputId": "dc1f03d8-1eb7-48c7-bcd5-e55b2c77a316"
      },
      "source": [
        "results = []\r\n",
        "for description in descriptions:\r\n",
        "  if description == 0:\r\n",
        "    results.append(0)\r\n",
        "  else:\r\n",
        "    numbersearches = get_results(description)\r\n",
        "    time.sleep(.5)\r\n",
        "    results.append(numbersearches)\r\n",
        "    "
      ],
      "execution_count": null,
      "outputs": [
        {
          "output_type": "stream",
          "text": [
            "<HTML url='https://www.google.com/sorry/index?continue=https://www.google.com/search%3Fq%3DBANK%2520OF%2520AMERICA%2520CORP%2520Tsinghua%2520Education%2520Foundation%2520North%2520America%25201000000%25202014&q=EgQiW_FJGKSP24EGIhkA8aeDS6S731S_P-lpgaZ1CRBtf_1bjsMfMgFy'>\n"
          ],
          "name": "stdout"
        },
        {
          "output_type": "error",
          "ename": "IndexError",
          "evalue": "ignored",
          "traceback": [
            "\u001b[0;31m---------------------------------------------------------------------------\u001b[0m",
            "\u001b[0;31mIndexError\u001b[0m                                Traceback (most recent call last)",
            "\u001b[0;32m<ipython-input-20-74dde038f60a>\u001b[0m in \u001b[0;36m<module>\u001b[0;34m()\u001b[0m\n\u001b[1;32m      4\u001b[0m     \u001b[0mresults\u001b[0m\u001b[0;34m.\u001b[0m\u001b[0mappend\u001b[0m\u001b[0;34m(\u001b[0m\u001b[0;36m0\u001b[0m\u001b[0;34m)\u001b[0m\u001b[0;34m\u001b[0m\u001b[0;34m\u001b[0m\u001b[0m\n\u001b[1;32m      5\u001b[0m   \u001b[0;32melse\u001b[0m\u001b[0;34m:\u001b[0m\u001b[0;34m\u001b[0m\u001b[0;34m\u001b[0m\u001b[0m\n\u001b[0;32m----> 6\u001b[0;31m     \u001b[0mnumbersearches\u001b[0m \u001b[0;34m=\u001b[0m \u001b[0mget_results\u001b[0m\u001b[0;34m(\u001b[0m\u001b[0mdescription\u001b[0m\u001b[0;34m)\u001b[0m\u001b[0;34m\u001b[0m\u001b[0;34m\u001b[0m\u001b[0m\n\u001b[0m\u001b[1;32m      7\u001b[0m     \u001b[0mtime\u001b[0m\u001b[0;34m.\u001b[0m\u001b[0msleep\u001b[0m\u001b[0;34m(\u001b[0m\u001b[0;36m.5\u001b[0m\u001b[0;34m)\u001b[0m\u001b[0;34m\u001b[0m\u001b[0;34m\u001b[0m\u001b[0m\n\u001b[1;32m      8\u001b[0m     \u001b[0mresults\u001b[0m\u001b[0;34m.\u001b[0m\u001b[0mappend\u001b[0m\u001b[0;34m(\u001b[0m\u001b[0mnumbersearches\u001b[0m\u001b[0;34m)\u001b[0m\u001b[0;34m\u001b[0m\u001b[0;34m\u001b[0m\u001b[0m\n",
            "\u001b[0;32m<ipython-input-19-dad98d44f2db>\u001b[0m in \u001b[0;36mget_results\u001b[0;34m(query)\u001b[0m\n\u001b[1;32m      6\u001b[0m  \u001b[0mresultnumber\u001b[0m \u001b[0;34m=\u001b[0m \u001b[0mr\u001b[0m\u001b[0;34m.\u001b[0m\u001b[0mhtml\u001b[0m\u001b[0;34m.\u001b[0m\u001b[0mfind\u001b[0m\u001b[0;34m(\u001b[0m\u001b[0;34m'#result-stats'\u001b[0m\u001b[0;34m)\u001b[0m\u001b[0;34m\u001b[0m\u001b[0;34m\u001b[0m\u001b[0m\n\u001b[1;32m      7\u001b[0m  \u001b[0;32mtry\u001b[0m\u001b[0;34m:\u001b[0m\u001b[0;34m\u001b[0m\u001b[0;34m\u001b[0m\u001b[0m\n\u001b[0;32m----> 8\u001b[0;31m    \u001b[0;32mreturn\u001b[0m \u001b[0mresultnumber\u001b[0m\u001b[0;34m[\u001b[0m\u001b[0;36m0\u001b[0m\u001b[0;34m]\u001b[0m\u001b[0;34m.\u001b[0m\u001b[0mtext\u001b[0m\u001b[0;34m.\u001b[0m\u001b[0msplit\u001b[0m\u001b[0;34m(\u001b[0m\u001b[0;34m)\u001b[0m\u001b[0;34m[\u001b[0m\u001b[0;36m1\u001b[0m\u001b[0;34m]\u001b[0m\u001b[0;34m\u001b[0m\u001b[0;34m\u001b[0m\u001b[0m\n\u001b[0m\u001b[1;32m      9\u001b[0m  \u001b[0;32mexcept\u001b[0m \u001b[0mIndexError\u001b[0m\u001b[0;34m:\u001b[0m\u001b[0;34m\u001b[0m\u001b[0;34m\u001b[0m\u001b[0m\n\u001b[1;32m     10\u001b[0m    \u001b[0mprint\u001b[0m\u001b[0;34m(\u001b[0m\u001b[0mr\u001b[0m\u001b[0;34m.\u001b[0m\u001b[0mhtml\u001b[0m\u001b[0;34m)\u001b[0m\u001b[0;34m\u001b[0m\u001b[0;34m\u001b[0m\u001b[0m\n",
            "\u001b[0;31mIndexError\u001b[0m: list index out of range"
          ]
        }
      ]
    },
    {
      "cell_type": "code",
      "metadata": {
        "colab": {
          "base_uri": "https://localhost:8080/"
        },
        "id": "6eirH592b_gt",
        "outputId": "f42112f4-6f22-40a8-ec15-7846f8de8d8a"
      },
      "source": [
        "results"
      ],
      "execution_count": null,
      "outputs": [
        {
          "output_type": "execute_result",
          "data": {
            "text/plain": [
              "['1,330,000',\n",
              " '632,000',\n",
              " '647,000',\n",
              " '827,000',\n",
              " '712,000',\n",
              " '747,000',\n",
              " '804,000',\n",
              " '682,000',\n",
              " '732,000',\n",
              " '659,000']"
            ]
          },
          "metadata": {
            "tags": []
          },
          "execution_count": 11
        }
      ]
    },
    {
      "cell_type": "code",
      "metadata": {
        "colab": {
          "base_uri": "https://localhost:8080/"
        },
        "id": "oofwlg9q7f1T",
        "outputId": "a7c219dc-1eb6-46d7-ad01-41577c953960"
      },
      "source": [
        "len(results)"
      ],
      "execution_count": null,
      "outputs": [
        {
          "output_type": "execute_result",
          "data": {
            "text/plain": [
              "56"
            ]
          },
          "metadata": {
            "tags": []
          },
          "execution_count": 21
        }
      ]
    },
    {
      "cell_type": "markdown",
      "metadata": {
        "id": "_QIolag-dGIl"
      },
      "source": [
        "now have to add it back to dataframe\r\n",
        "https://www.geeksforgeeks.org/adding-new-column-to-existing-dataframe-in-pandas/\r\n",
        "http://jonathansoma.com/lede/foundations/classes/pandas%20columns%20and%20functions/apply-a-function-to-every-row-in-a-pandas-dataframe/ "
      ]
    },
    {
      "cell_type": "code",
      "metadata": {
        "colab": {
          "background_save": true
        },
        "id": "kcCkikImdK1r"
      },
      "source": [
        ""
      ],
      "execution_count": null,
      "outputs": []
    }
  ]
}